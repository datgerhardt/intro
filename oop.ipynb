{
 "cells": [
  {
   "cell_type": "markdown",
   "id": "fbb9e2da-f21c-47ee-b0c2-78b8d95e0826",
   "metadata": {},
   "source": [
    "# Understanding Object-Oriented Programming (OOP) in Python"
   ]
  },
  {
   "cell_type": "markdown",
   "id": "03533044-36d6-4fe9-be06-aa253f85edc3",
   "metadata": {},
   "source": [
    "## Introduction\n"
   ]
  },
  {
   "cell_type": "markdown",
   "id": "31adae4d-83b2-4ff8-89dd-96e7c93d9bec",
   "metadata": {},
   "source": [
    "## What is OOP?\n",
    "\n",
    "Object-Oriented Programming is a method of structuring programs by bundling related properties and behaviors into individual objects. This approach improves code organization, reusability, and scalability.\n",
    "\n",
    "Key concepts of OOP include:\n",
    "\n",
    "1. **Class**: A blueprint for creating objects.\n",
    "2. **Object**: An instance of a class.\n",
    "3. **Attributes**: Variables that store data about an object.\n",
    "4. **Methods**: Functions that define behaviors for an object."
   ]
  },
  {
   "cell_type": "markdown",
   "id": "4a57e902-daad-4723-b686-eb237b0e6262",
   "metadata": {},
   "source": [
    "## Why Use OOP in Python?\n",
    "\n",
    "- **Code Reusability**: Write once, use many times.\n",
    "- **Modularity**: Break complex systems into manageable pieces.\n",
    "- **Scalability**: Easily extend functionality.\n",
    "- **Data Integrity**: Encapsulation protects internal data."
   ]
  },
  {
   "cell_type": "code",
   "execution_count": null,
   "id": "992d063e-17c8-48a3-a17c-fbeeb3c6bc6b",
   "metadata": {},
   "outputs": [],
   "source": []
  },
  {
   "cell_type": "markdown",
   "id": "e765e152-f543-493b-b9c5-73ce61c920b0",
   "metadata": {},
   "source": [
    "```python\n",
    "\n",
    "\"\"\"\n",
    " Dog\n",
    "\n",
    " legs \n",
    " eyes\n",
    " tail\n",
    "\n",
    "make sounds \n",
    "can run \n",
    "\n",
    "\"\"\"\n",
    "# int val;\n",
    "\n",
    "class Dog:\n",
    "    def __init__(self, name, location, food='chicken'):\n",
    "        self.name = name\n",
    "        self.location = location\n",
    "        self.food = food\n",
    "\n",
    "    def make_sound(self):\n",
    "        return \"hi\"\n",
    "    \n",
    "    def run(self):\n",
    "        return \"dogs runs\"\n",
    "    \n",
    "    def get_details(self):\n",
    "        location = \"Dave\"\n",
    "        return f\"name: {self.name}, location: {self.location}, food: {self.food}, 2nd location {location}\" \n",
    "\n",
    "\n",
    "if __name__ == \"__main__\":\n",
    "    jack = Dog('jack', \"ho\", 'yam')\n",
    "    # print(\"jack.name:\", jack.name)\n",
    "    # print(\"jack.loction:\", jack.location)\n",
    "    # print(\"jack.food:\", jack.food)\n",
    "    print(\"jack.make_sound:\",jack.make_sound())\n",
    "    print(\"jack.run:\",jack.get_details())\n",
    "\n",
    "```"
   ]
  },
  {
   "cell_type": "code",
   "execution_count": null,
   "id": "fd4ebdd3-b7e0-49a6-8cb6-17ea486fd65a",
   "metadata": {},
   "outputs": [],
   "source": []
  },
  {
   "cell_type": "markdown",
   "id": "1776d38c-0a3d-4a53-80bd-1cc15e3352b2",
   "metadata": {},
   "source": [
    "## Core Principles of OOP\n"
   ]
  },
  {
   "cell_type": "markdown",
   "id": "1fc2e926-cae9-4d5c-aa11-ae1a278ba762",
   "metadata": {},
   "source": [
    "### 1. Encapsulation\n",
    "Encapsulation is the concept of restricting access to certain details of an object and only exposing essential features. This is achieved using **private** and **public** attributes and methods.\n",
    "\n",
    "Example:\n",
    "```python\n",
    "class BankAccount:\n",
    "    def __init__(self, account_number, balance):\n",
    "        self.account_number = account_number\n",
    "        self.__balance = balance  # Private attribute\n",
    "\n",
    "    def deposit(self, amount):\n",
    "        self.__balance += amount\n",
    "\n",
    "    def get_balance(self):\n",
    "        return self.__balance\n",
    "\n",
    "account = BankAccount(\"12345\", 1000)\n",
    "print(account.get_balance())  # Accessing private data via a method\n",
    "```\n",
    "\n",
    "**Exercise:**\n",
    "1. Create a `Student` class with private attributes for `name` and `grade`.\n",
    "2. Implement methods to set and get these values.\n"
   ]
  },
  {
   "cell_type": "code",
   "execution_count": null,
   "id": "4c770b1a-bf66-4e09-b19c-426cda1937f5",
   "metadata": {},
   "outputs": [],
   "source": []
  },
  {
   "cell_type": "markdown",
   "id": "bd43d265-9cfa-494c-aea5-497422e37eeb",
   "metadata": {},
   "source": [
    "### 2. Inheritance\n",
    "Inheritance allows one class (child) to inherit attributes and methods from another class (parent). This promotes code reuse and a hierarchical structure.\n",
    "\n",
    "Example:\n",
    "```python\n",
    "class Animal:\n",
    "    def speak(self):\n",
    "        print(\"Animal speaks\")\n",
    "\n",
    "class Dog(Animal):\n",
    "    def speak(self):\n",
    "        print(\"Dog barks\")\n",
    "\n",
    "my_dog = Dog()\n",
    "my_dog.speak()  # Outputs: Dog barks\n",
    "```\n",
    "\n",
    "#### Exercise:\n",
    "\n",
    "Create a `Vehicle` class with a method `move()` that prints `Vehicle is moving`.\n",
    "\n",
    "Create a `Car` class that inherits from `Vehicle` and overrides the `move()` method to print \"Car is driving\".\n"
   ]
  },
  {
   "cell_type": "code",
   "execution_count": null,
   "id": "dec095f8-2c28-4580-8afc-45246dd5fb9a",
   "metadata": {},
   "outputs": [],
   "source": []
  },
  {
   "cell_type": "markdown",
   "id": "e94bc064-fb5a-4875-8c7c-a66a40bacbbc",
   "metadata": {},
   "source": [
    "### 3. Polymorphism\n",
    "Polymorphism means \"many forms\" and allows different objects to be treated as instances of the same class through a shared interface.\n",
    "\n",
    "Example:\n",
    "```python\n",
    "class Bird:\n",
    "    def sound(self):\n",
    "        print(\"Bird sings\")\n",
    "\n",
    "class Cat:\n",
    "    def sound(self):\n",
    "        print(\"Cat meows\")\n",
    "\n",
    "def make_sound(animal):\n",
    "    animal.sound()\n",
    "\n",
    "make_sound(Bird())  # Outputs: Bird sings\n",
    "make_sound(Cat())   # Outputs: Cat meows\n",
    "```\n",
    "\n",
    "**Exercise:**\n",
    "1. Implement a `Shape` interface with a `draw()` method.\n",
    "2. Create `Circle` and `Square` classes that implement the `draw()` method."
   ]
  },
  {
   "cell_type": "code",
   "execution_count": null,
   "id": "6585b078-90ab-4486-beb1-b6f51fdd049d",
   "metadata": {},
   "outputs": [],
   "source": []
  },
  {
   "cell_type": "markdown",
   "id": "2910ec22-864c-4591-8137-88c486e6234e",
   "metadata": {},
   "source": [
    "### 4. Abstraction\n",
    "Abstraction hides complex implementation details and shows only essential features. In Python, abstraction is achieved using **abstract base classes (ABC)**.\n",
    "\n",
    "Example:\n",
    "```python\n",
    "from abc import ABC, abstractmethod\n",
    "\n",
    "class Shape(ABC):\n",
    "    @abstractmethod\n",
    "    def area(self):\n",
    "        pass\n",
    "\n",
    "class Circle(Shape):\n",
    "    def __init__(self, radius):\n",
    "        self.radius = radius\n",
    "\n",
    "    def area(self):\n",
    "        return 3.14 * self.radius ** 2\n",
    "\n",
    "circle = Circle(5)\n",
    "print(circle.area())\n",
    "```\n",
    "\n",
    "**Exercise:**\n",
    "1. Create an abstract class `Animal` with an abstract method `make_sound()`.\n",
    "2. Implement `Dog` and `Cat` classes that provide concrete implementations of `make_sound()`."
   ]
  },
  {
   "cell_type": "code",
   "execution_count": null,
   "id": "54181b5c-a025-455a-9713-15d9034cc0bf",
   "metadata": {},
   "outputs": [],
   "source": []
  },
  {
   "cell_type": "markdown",
   "id": "a9dbd270-0d5b-4866-a3d5-6b732bf8ea65",
   "metadata": {},
   "source": [
    "## Class Methods, Static Methods, and Properties\n"
   ]
  },
  {
   "cell_type": "markdown",
   "id": "fbf42f6c-f3f1-4a19-a806-ee2b489cad44",
   "metadata": {},
   "source": [
    "### 5. Class Methods\n",
    "A **class method** is bound to the class rather than the instance. It takes `cls` as the first parameter and is defined using the `@classmethod` decorator.\n",
    "\n",
    "Example:\n",
    "```python\n",
    "class Person:\n",
    "    population = 0\n",
    "\n",
    "    def __init__(self, name):\n",
    "        self.name = name\n",
    "        Person.population += 1\n",
    "\n",
    "    @classmethod\n",
    "    def get_population(cls):\n",
    "        return cls.population\n",
    "\n",
    "p1 = Person(\"Alice\")\n",
    "p2 = Person(\"Bob\")\n",
    "print(Person.get_population())  # Outputs: 2\n",
    "```\n",
    "\n",
    "**Exercise:**\n",
    "1. Create a `Book` class that keeps track of the total number of books using a class method.\n"
   ]
  },
  {
   "cell_type": "code",
   "execution_count": null,
   "id": "28803a5d-11f5-49a9-9e11-7faafa6f45e2",
   "metadata": {},
   "outputs": [],
   "source": []
  },
  {
   "cell_type": "markdown",
   "id": "57cadd5c-afc1-448b-b509-1995e8f8dd8b",
   "metadata": {},
   "source": [
    "### 6. Static Methods\n",
    "A **static method** does not access class or instance variables. It is defined using the `@staticmethod` decorator.\n",
    "\n",
    "Example:\n",
    "```python\n",
    "class Math:\n",
    "    @staticmethod\n",
    "    def add(x, y):\n",
    "        return x + y\n",
    "\n",
    "print(Math.add(3, 5))  # Outputs: 8\n",
    "```\n",
    "\n",
    "**Exercise:**\n",
    "1. Create a `Utility` class with a static method to check if a number is even."
   ]
  },
  {
   "cell_type": "markdown",
   "id": "014d18ab-2cd9-4aa2-9830-cb6c21bf5a76",
   "metadata": {},
   "source": [
    "### 7. Properties\n",
    "A **property** allows you to manage attribute access. You can define getter, setter, and deleter methods using the `@property` decorator.\n",
    "\n",
    "Example:\n",
    "```python\n",
    "class Temperature:\n",
    "    def __init__(self, celsius):\n",
    "        self._celsius = celsius\n",
    "\n",
    "    @property\n",
    "    def fahrenheit(self):\n",
    "        return (self._celsius * 9/5) + 32\n",
    "\n",
    "    @fahrenheit.setter\n",
    "    def fahrenheit(self, value):\n",
    "        self._celsius = (value - 32) * 5/9\n",
    "\n",
    "temp = Temperature(25)\n",
    "print(temp.fahrenheit)  # Outputs: 77.0\n",
    "temp.fahrenheit = 98.6\n",
    "print(temp._celsius)  # Outputs: 37.0\n",
    "```\n",
    "\n",
    "**Exercise:**\n",
    "1. Create a `Rectangle` class with `width` and `height` attributes and a read-only `area` property.\n"
   ]
  },
  {
   "cell_type": "markdown",
   "id": "d4d5c9b8-e77f-4412-be26-962155e0f913",
   "metadata": {},
   "source": [
    "## Best Practices for OOP in Python\n",
    "\n",
    "1. **Follow the SOLID Principles**: Ensure maintainable and extensible code.\n",
    "2. **Use Dunder Methods**: Implement special methods like `__str__`, `__repr__`, and `__eq__`.\n",
    "3. **Limit Public Attributes**: Use private/protected attributes to control access.\n",
    "4. **Docstrings**: Document classes and methods clearly."
   ]
  },
  {
   "cell_type": "markdown",
   "id": "28a4a64b-6444-485c-8766-abb0a890491b",
   "metadata": {},
   "source": [
    "Example:\n",
    "```python\n",
    "class Person:\n",
    "    \"\"\"A class to represent a person.\"\"\"\n",
    "\n",
    "    def __init__(self, name, age):\n",
    "        self.name = name\n",
    "        self.age = age\n",
    "\n",
    "    def __str__(self):\n",
    "        return f\"{self.name}, {self.age} years old\"\n",
    "\n",
    "p = Person(\"Alice\", 30)\n",
    "print(p)\n",
    "```\n"
   ]
  },
  {
   "cell_type": "code",
   "execution_count": null,
   "id": "33d74ae7-ecb0-40fd-858f-06d0848d86e4",
   "metadata": {},
   "outputs": [],
   "source": []
  },
  {
   "cell_type": "markdown",
   "id": "3fb3b099-83cc-4568-894f-9d1b42fd8003",
   "metadata": {},
   "source": [
    "\n",
    "## Summary\n",
    "\n",
    "In this talk, we covered:\n",
    "\n",
    "- The basics of **Object-Oriented Programming**.\n",
    "- Core principles: **Encapsulation**, **Inheritance**, **Polymorphism**, and **Abstraction**.\n",
    "- Python examples and best practices.\n",
    "\n",
    "By mastering OOP in Python, you'll write cleaner, more efficient, and scalable code. Thank you for your attention, and happy coding!\n"
   ]
  },
  {
   "cell_type": "code",
   "execution_count": null,
   "id": "9eaf3fb2-1e9a-48d8-909c-af747a5ef2db",
   "metadata": {},
   "outputs": [],
   "source": []
  },
  {
   "cell_type": "code",
   "execution_count": null,
   "id": "2b6932ed-5e7a-4b7b-9b77-cbdd85728757",
   "metadata": {},
   "outputs": [],
   "source": []
  }
 ],
 "metadata": {
  "kernelspec": {
   "display_name": "Python 3 (ipykernel)",
   "language": "python",
   "name": "python3"
  },
  "language_info": {
   "codemirror_mode": {
    "name": "ipython",
    "version": 3
   },
   "file_extension": ".py",
   "mimetype": "text/x-python",
   "name": "python",
   "nbconvert_exporter": "python",
   "pygments_lexer": "ipython3",
   "version": "3.12.9"
  }
 },
 "nbformat": 4,
 "nbformat_minor": 5
}
